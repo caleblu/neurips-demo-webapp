{
 "cells": [
  {
   "cell_type": "code",
   "execution_count": 1,
   "id": "e039ae01-008c-4942-8c82-b415c9a5a829",
   "metadata": {},
   "outputs": [],
   "source": [
    "from demo_utils import display_demo"
   ]
  },
  {
   "cell_type": "code",
   "execution_count": 2,
   "id": "43627d99-8824-4e38-bfc7-3987aa6014ea",
   "metadata": {},
   "outputs": [
    {
     "data": {
      "application/vnd.jupyter.widget-view+json": {
       "model_id": "96c1b73dca84455da3f5626a4e903c03",
       "version_major": 2,
       "version_minor": 0
      },
      "text/plain": [
       "HBox(children=(Select(description='Model:', options=('Pink', 'No_Pink'), value='Pink'), Select(description='In…"
      ]
     },
     "metadata": {},
     "output_type": "display_data"
    },
    {
     "data": {
      "application/vnd.jupyter.widget-view+json": {
       "model_id": "6998315f0fd547a581348451d5093dd9",
       "version_major": 2,
       "version_minor": 0
      },
      "text/plain": [
       "Output()"
      ]
     },
     "metadata": {},
     "output_type": "display_data"
    }
   ],
   "source": [
    "display_demo()"
   ]
  },
  {
   "cell_type": "code",
   "execution_count": null,
   "id": "7d560ce9-de14-4d8c-917f-4835eac0273e",
   "metadata": {},
   "outputs": [],
   "source": []
  }
 ],
 "metadata": {
  "kernelspec": {
   "display_name": "Python 3 (ipykernel)",
   "language": "python",
   "name": "python3"
  },
  "language_info": {
   "codemirror_mode": {
    "name": "ipython",
    "version": 3
   },
   "file_extension": ".py",
   "mimetype": "text/x-python",
   "name": "python",
   "nbconvert_exporter": "python",
   "pygments_lexer": "ipython3",
   "version": "3.7.12"
  }
 },
 "nbformat": 4,
 "nbformat_minor": 5
}
